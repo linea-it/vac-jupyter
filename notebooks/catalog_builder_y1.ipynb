{
 "cells": [
  {
   "cell_type": "markdown",
   "metadata": {},
   "source": [
    "## Catalog builder\n",
    "\n",
    "DEMO ..."
   ]
  },
  {
   "cell_type": "code",
   "execution_count": null,
   "metadata": {},
   "outputs": [],
   "source": [
    "# Append base directory to the system path\n",
    "import os\n",
    "import sys\n",
    "\n",
    "working_directory = os.getcwd()\n",
    "base_directory = working_directory + '/..'\n",
    "\n",
    "sys.path.append(base_directory)"
   ]
  },
  {
   "cell_type": "code",
   "execution_count": null,
   "metadata": {},
   "outputs": [],
   "source": [
    "# Reload python modules automatically\n",
    "%reload_ext autoreload\n",
    "%autoreload 2"
   ]
  },
  {
   "cell_type": "code",
   "execution_count": null,
   "metadata": {},
   "outputs": [],
   "source": [
    "### Explain connection details..."
   ]
  },
  {
   "cell_type": "code",
   "execution_count": null,
   "metadata": {},
   "outputs": [],
   "source": [
    "# DB connection\n",
    "# REVIEW:\n",
    "# - conenction parameters are hardcoded and exposed\n",
    "# - user permissions\n",
    "\n",
    "import sqlalchemy\n",
    "import sqlparse\n",
    "import warnings\n",
    "warnings.simplefilter(\"ignore\", category=sqlalchemy.exc.SAWarning)\n",
    "\n",
    "# module to facilitate the DB connection and the creation and deletion of the tables\n",
    "from src import db\n",
    "from src import sqlalchemy_extension as sql_op\n",
    "\n",
    "from src import queries_y1 as qy1\n",
    "\n",
    "\n",
    "url = sqlalchemy.engine.url.URL('postgresql', username='', password='',host='', port=)\n",
    "dal = db.DbConnection()\n",
    "dal.db_init(url)"
   ]
  },
  {
   "cell_type": "markdown",
   "metadata": {},
   "source": [
    "### STEP 1 - Region selection\n",
    "\n",
    "why(?) - physics explanation\n",
    "\n",
    "Steps:\n",
    "1. Select an ancillary map from the list above.\n",
    "2. Build a sql statement. -show query before execution-\n",
    "3. Create table from sql statement\n",
    "4. Report info and statistics about the table -Product log-"
   ]
  },
  {
   "cell_type": "code",
   "execution_count": null,
   "metadata": {},
   "outputs": [],
   "source": [
    "# Load tables and inspect columns\n",
    "# REVIEW:\n",
    "# - how to choose the available tables outside E2E env ? -> Use \n",
    "# - list availabe tables\n",
    "table_mangle_i = sqlalchemy.Table(\"mangle_maps_4096_ring_frac_i_10029940\", dal.meta, autoload=True, schema=\"y1a1_coadd_cosmos_d04\").alias('table_mangle_i')\n",
    "\n",
    "print(\"Inspecting columns from table:\\n\")\n",
    "print(str(table_mangle_i.c.values()))"
   ]
  },
  {
   "cell_type": "code",
   "execution_count": null,
   "metadata": {},
   "outputs": [],
   "source": [
    "# Regions with mangle detfract larger than 0.8 in i band.\n",
    "from sqlalchemy.sql import and_, or_\n",
    "\n",
    "# stm = sqlalchemy.select([table_mangle_i]).where(and_(table_mangle_i.c.signal >= 0.8, table_mangle_i.c.signal <= 0.9))\n",
    "stm = sqlalchemy.select([table_mangle_i]).where(table_mangle_i.c.signal >= 0.8)\n",
    "print(sqlparse.format(str(stm), reindent=True, keyword_case='upper'))"
   ]
  },
  {
   "cell_type": "code",
   "execution_count": null,
   "metadata": {},
   "outputs": [],
   "source": [
    "%%time\n",
    "dal.create_table('tmp_table_mangle_i', stm)"
   ]
  },
  {
   "cell_type": "code",
   "execution_count": null,
   "metadata": {},
   "outputs": [],
   "source": [
    "data = dal.select_columns(\"tmp_table_mangle_i\", ['signal'])"
   ]
  },
  {
   "cell_type": "code",
   "execution_count": null,
   "metadata": {},
   "outputs": [],
   "source": [
    "# Statistics and relevant info HERE.\n",
    "%matplotlib inline\n",
    "import matplotlib.pyplot as plt\n",
    "import numpy as np\n",
    "\n",
    "\n",
    "plt.clf()\n",
    "n, bins, patches = plt.hist(np.array(data), 25, facecolor='red', alpha=0.50)\n",
    "plt.xlabel('X label')\n",
    "plt.ylabel('Y label')\n",
    "plt.show()"
   ]
  },
  {
   "cell_type": "code",
   "execution_count": null,
   "metadata": {},
   "outputs": [],
   "source": [
    "# dal.delete_table('tmp_table_mangle_i')"
   ]
  },
  {
   "cell_type": "code",
   "execution_count": null,
   "metadata": {},
   "outputs": [],
   "source": [
    "# Surface plots\n",
    "from src import plots as pt\n",
    "\n",
    "data = dal.select_columns('tmp_table_mangle_i', ['ra', 'dec', 'signal'])\n",
    "pt.plot_map(data)"
   ]
  },
  {
   "cell_type": "code",
   "execution_count": null,
   "metadata": {},
   "outputs": [],
   "source": [
    "table_bad_regions = sqlalchemy.Table(\"y1a1_coadd_cosmos_d04_bright_mask_4096_ring_10023572\", dal.meta, autoload=True, schema=\"bright_mask\").alias('table_bad_regions')\n",
    "str(table_bad_regions.c.values())"
   ]
  },
  {
   "cell_type": "code",
   "execution_count": null,
   "metadata": {},
   "outputs": [],
   "source": [
    "# filter condition\n",
    "# 1 - Regions with bad astrometric colors\n",
    "# 2 - Fainter 2MASS star region (8 < J < 12)\n",
    "# 4 - Large nearby object (R3C catalog)\n",
    "# 8 - Bright 2MASS star region (5 < J < 8)\n",
    "# 16 - Near the LMC\n",
    "# 32 - Yale Bright Star region\n",
    "# 64 - High density of crazy colors\n",
    "# 128 - Globular Clusters (William et al. 2010)\n",
    "filters = [32, 8, 4, 2]\n",
    "\n",
    "stm = sqlalchemy.select([table_bad_regions]).where(sql_op.BitwiseAnd(\n",
    "                                    sqlalchemy.cast(table_bad_regions.c.signal, sqlalchemy.Integer),\n",
    "                                    sum(filters)) > 0)\n",
    "print(sqlparse.format(str(stm), reindent=True, keyword_case='upper'))"
   ]
  },
  {
   "cell_type": "code",
   "execution_count": null,
   "metadata": {},
   "outputs": [],
   "source": [
    "%%time\n",
    "dal.create_table('tmp_table_bad_regions', stm)"
   ]
  },
  {
   "cell_type": "code",
   "execution_count": null,
   "metadata": {},
   "outputs": [],
   "source": [
    "data = dal.select_columns('tmp_table_bad_regions', ['ra', 'dec', 'signal'])\n",
    "pt.plot_map(data)"
   ]
  },
  {
   "cell_type": "code",
   "execution_count": null,
   "metadata": {},
   "outputs": [],
   "source": [
    "# Add comments.\n",
    "table_depth_i = sqlalchemy.Table(\"y1a1_coadd_cosmos_d04_5_auto_4096_ring_i_10024579\", dal.meta, autoload=True, schema=\"depth_maps\").alias('table_mangle_i')\n",
    "str(table_depth_i.c.values())"
   ]
  },
  {
   "cell_type": "code",
   "execution_count": null,
   "metadata": {},
   "outputs": [],
   "source": [
    "# Inspect SQL\n",
    "stm = sqlalchemy.select([table_depth_i]).where(table_depth_i.c.signal >= 22)\n",
    "print(sqlparse.format(str(stm), reindent=True, keyword_case='upper'))"
   ]
  },
  {
   "cell_type": "code",
   "execution_count": null,
   "metadata": {},
   "outputs": [],
   "source": [
    "%%time\n",
    "dal.create_table('tmp_table_depth_i', stm)"
   ]
  },
  {
   "cell_type": "code",
   "execution_count": null,
   "metadata": {},
   "outputs": [],
   "source": [
    "data = dal.select_columns('tmp_table_depth_i', ['signal'])"
   ]
  },
  {
   "cell_type": "code",
   "execution_count": null,
   "metadata": {},
   "outputs": [],
   "source": [
    "plt.clf()\n",
    "n, bins, patches = plt.hist(np.array(data), 50, facecolor='green', alpha=0.75)\n",
    "plt.xlabel('data')\n",
    "plt.ylabel('Count')\n",
    "plt.show()"
   ]
  },
  {
   "cell_type": "code",
   "execution_count": null,
   "metadata": {},
   "outputs": [],
   "source": [
    "data = dal.select_columns('tmp_table_depth_i', ['ra', 'dec', 'signal'])\n",
    "pt.plot_map(data)"
   ]
  },
  {
   "cell_type": "code",
   "execution_count": null,
   "metadata": {},
   "outputs": [],
   "source": [
    "# Footprint\n",
    "input_params = {}\n",
    "table_dependencies = {}\n",
    "\n",
    "table_dependencies['good_regions'] = []\n",
    "table_dependencies['bad_regions'] = []\n",
    "\n",
    "table_dependencies['good_regions'].append({'schema': dal.schema_output, 'table': 'tmp_table_depth_i'})\n",
    "table_dependencies['good_regions'].append({'schema': dal.schema_output, 'table': 'tmp_table_mangle_i'})\n",
    "table_dependencies['bad_regions'].append({'schema': dal.schema_output, 'table': 'tmp_table_bad_regions'})\n",
    "\n",
    "operation = qy1.Footprint(input_params, table_dependencies)\n",
    "print(sqlparse.format(operation.sql(), reindent=True, keyword_case='upper'))"
   ]
  },
  {
   "cell_type": "code",
   "execution_count": null,
   "metadata": {
    "scrolled": true
   },
   "outputs": [],
   "source": [
    "%%time\n",
    "operation.create_table('tmp_footprint')"
   ]
  },
  {
   "cell_type": "code",
   "execution_count": null,
   "metadata": {},
   "outputs": [],
   "source": [
    "data = dal.select_columns('tmp_footprint', ['signal'])"
   ]
  },
  {
   "cell_type": "code",
   "execution_count": null,
   "metadata": {},
   "outputs": [],
   "source": [
    "data = dal.select_columns('tmp_footprint', ['ra', 'dec', 'signal'])\n",
    "pt.plot_map(data)"
   ]
  },
  {
   "cell_type": "markdown",
   "metadata": {},
   "source": [
    "STEP 2 - Object SELECTION\n",
    "\n",
    "Reduciton<br/>\n",
    "Cuts<br/>\n",
    "Bitmask<br/>\n",
    "Column selection<br/>"
   ]
  },
  {
   "cell_type": "code",
   "execution_count": null,
   "metadata": {},
   "outputs": [],
   "source": [
    "# Reduction\n",
    "input_params = {}\n",
    "table_dependencies = {}\n",
    "\n",
    "input_params['coadd_objects_ring'] = {'schema': 'y1a1_coadd_cosmos_d04', 'table': 'coadd_objects_pixel_4096_ring_10029940'}\n",
    "table_dependencies['footprint'] = {'schema': dal.schema_output, 'table': 'tmp_footprint'}\n",
    "\n",
    "operation = qy1.Reduction(input_params, table_dependencies)\n",
    "print(sqlparse.format(operation.sql(), reindent=True, keyword_case='upper'))"
   ]
  },
  {
   "cell_type": "code",
   "execution_count": null,
   "metadata": {},
   "outputs": [],
   "source": [
    "%%time\n",
    "operation.create_table('tmp_reduction')"
   ]
  },
  {
   "cell_type": "code",
   "execution_count": null,
   "metadata": {},
   "outputs": [],
   "source": [
    "# Cuts\n",
    "input_params = {}\n",
    "table_dependencies = {}\n",
    "\n",
    "input_params['coadd_objects'] = {'schema': 'y1a1_coadd_cosmos_d04', 'table': 'coadd_objects'}\n",
    "input_params['mag_type'] = 'auto'\n",
    "input_params['sextractor_flags'] = [0, 1, 2]\n",
    "input_params['sextractor_bands'] = ['i'] \n",
    "input_params['additional_cuts'] = ['remove_bbj', 'spreaderr_model', 'bad_astronomic_colors']\n",
    "input_params['niter_model'] = []\n",
    "input_params['sn_cuts'] = {}\n",
    "input_params['magnitude_limit'] = {'i': '22'}\n",
    "input_params['bright_magnitude'] = {'i': '15'}\n",
    "input_params['color_cuts'] = {'gr':[-2, 4], 'ri':[-2, 4], 'iz':[-2, 4], 'zy':[-2, 4]}\n",
    "\n",
    "table_dependencies['reduction'] = {'schema': dal.schema_output, 'table': 'tmp_reduction'}\n",
    "\n",
    "operation = qy1.Cuts(input_params, table_dependencies)\n",
    "print(sqlparse.format(operation.sql(), reindent=True, keyword_case='upper'))"
   ]
  },
  {
   "cell_type": "code",
   "execution_count": null,
   "metadata": {},
   "outputs": [],
   "source": [
    "%%time\n",
    "operation.create_table('tmp_cuts')"
   ]
  },
  {
   "cell_type": "code",
   "execution_count": null,
   "metadata": {},
   "outputs": [],
   "source": [
    "# Bitmask\n",
    "input_params = {}\n",
    "table_dependencies = {}\n",
    "\n",
    "input_params['molygon_coadds'] = {'schema': 'y1a1_coadd_cosmos_d04', 'table': 'coadd_objects_molygon_10029940'}\n",
    "input_params['molygon'] = {'schema': 'y1a1_coadd_cosmos_d04', 'table': 'molygon_10029940'}\n",
    "input_params['mangle_bitmask'] = ['i']\n",
    "\n",
    "table_dependencies['last_table'] = {'schema': dal.schema_output, 'table': 'tmp_cuts'}\n",
    "\n",
    "operation = qy1.Bitmask(input_params, table_dependencies)\n",
    "print(sqlparse.format(operation.sql(), reindent=True, keyword_case='upper'))"
   ]
  },
  {
   "cell_type": "code",
   "execution_count": null,
   "metadata": {},
   "outputs": [],
   "source": [
    "%%time\n",
    "operation.create_table('tmp_bitmask')"
   ]
  },
  {
   "cell_type": "code",
   "execution_count": null,
   "metadata": {},
   "outputs": [],
   "source": [
    "# Object Selection\n",
    "input_params = {}\n",
    "table_dependencies = {}\n",
    "\n",
    "input_params['coadd_objects'] = {'schema': 'y1a1_coadd_cosmos_d04', 'table': 'coadd_objects'}\n",
    "input_params['columns_data_set'] = [\"a_image\", \"alphawin_j2000_y\", \"bwin_image_r\", \"chi2_psf_r\", \"ra\", \"dec\"]\n",
    "input_params['columns_zero_point'] = []\n",
    "\n",
    "table_dependencies['last_table'] = {'schema': dal.schema_output, 'table': 'tmp_bitmask'}\n",
    "table_dependencies['zero_point'] = {'schema': '', 'table': ''}\n",
    "\n",
    "operation = qy1.ObjectSelection(input_params, table_dependencies)\n",
    "print(sqlparse.format(operation.sql(), reindent=True, keyword_case='upper'))"
   ]
  },
  {
   "cell_type": "code",
   "execution_count": null,
   "metadata": {
    "scrolled": true
   },
   "outputs": [],
   "source": [
    "%%time\n",
    "operation.create_table('tmp_object_selection')"
   ]
  },
  {
   "cell_type": "code",
   "execution_count": null,
   "metadata": {},
   "outputs": [],
   "source": [
    "data = dal.select_columns('tmp_object_selection', ['ra', 'dec'])\n",
    "pt.plot_catalog(4096, data)"
   ]
  }
 ],
 "metadata": {
  "kernelspec": {
   "display_name": "Python 3",
   "language": "python",
   "name": "python3"
  },
  "language_info": {
   "codemirror_mode": {
    "name": "ipython",
    "version": 3
   },
   "file_extension": ".py",
   "mimetype": "text/x-python",
   "name": "python",
   "nbconvert_exporter": "python",
   "pygments_lexer": "ipython3",
   "version": "3.6.4"
  }
 },
 "nbformat": 4,
 "nbformat_minor": 1
}
