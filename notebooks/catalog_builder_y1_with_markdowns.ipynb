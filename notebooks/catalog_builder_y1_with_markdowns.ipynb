{
 "cells": [
  {
   "cell_type": "markdown",
   "metadata": {},
   "source": [
    "# Catalog builder\n",
    "\n",
    "DEMO ...\n",
    "\n",
    "Owner: Lucas Nunes\n",
    "\n",
    "Last run verified: 24-08-2018"
   ]
  },
  {
   "cell_type": "markdown",
   "metadata": {},
   "source": [
    "Importing libraries and defining notebook configurations"
   ]
  },
  {
   "cell_type": "code",
   "execution_count": null,
   "metadata": {},
   "outputs": [],
   "source": [
    "# Append base directory to the system path\n",
    "import os\n",
    "import sys\n",
    "\n",
    "working_directory = os.getcwd()\n",
    "base_directory = working_directory + '/..'\n",
    "\n",
    "sys.path.append(base_directory)"
   ]
  },
  {
   "cell_type": "code",
   "execution_count": null,
   "metadata": {},
   "outputs": [],
   "source": [
    "# Reload python modules automatically\n",
    "%reload_ext autoreload\n",
    "%autoreload 2"
   ]
  },
  {
   "cell_type": "code",
   "execution_count": null,
   "metadata": {},
   "outputs": [],
   "source": [
    "# plot imports\n",
    "%matplotlib notebook\n",
    "import matplotlib.pyplot as plt\n",
    "import numpy as np\n",
    "import healpy as hp\n",
    "\n",
    "# Surface plots\n",
    "from src import plots as pt"
   ]
  },
  {
   "cell_type": "markdown",
   "metadata": {},
   "source": [
    "Stablishing the connection with the database.\n",
    "\n",
    "**TO DO**: multiple users with their own credentials."
   ]
  },
  {
   "cell_type": "code",
   "execution_count": null,
   "metadata": {},
   "outputs": [],
   "source": [
    "### Explain connection details...\n",
    "from ipywidgets import widgets\n",
    "import notebook\n",
    "\n",
    "user = widgets.Text(description='DB User', placeholder='Insert DB user', description_tooltip='DB User')\n",
    "display(user)\n",
    "password = widgets.Password(description='DB Pass', placeholder='Insert DB password', description_tooltip='DB Pass')\n",
    "display(password)\n",
    "host = widgets.Text(description='DB Host', description_tooltip='DB Host', value='desdb4.linea.gov.br')\n",
    "display(host)\n",
    "port = widgets.Text(description='DB Port', description_tooltip='DB Port', value='5432')\n",
    "display(port)\n",
    "\n",
    "def handle_submit(sender):\n",
    "    print (\"Credentials stored.\")\n",
    "\n",
    "user.on_submit(handle_submit)\n",
    "password.on_submit(handle_submit)\n",
    "host.on_submit(handle_submit)\n",
    "port.on_submit(handle_submit)"
   ]
  },
  {
   "cell_type": "code",
   "execution_count": null,
   "metadata": {},
   "outputs": [],
   "source": [
    "# DB connection\n",
    "# REVIEW:\n",
    "# - conenction parameters are hardcoded and exposed\n",
    "# - user permissions\n",
    "\n",
    "import sqlalchemy\n",
    "import sqlparse\n",
    "import warnings\n",
    "warnings.simplefilter(\"ignore\", category=sqlalchemy.exc.SAWarning)\n",
    "\n",
    "# module to facilitate the DB connection and the creation and deletion of the tables\n",
    "from src import db\n",
    "from src import sqlalchemy_extension as sql_op\n",
    "\n",
    "from src import queries_y1 as qy1\n",
    "\n",
    "url = sqlalchemy.engine.url.URL('postgresql',\n",
    "                                username=user.value,\n",
    "                                password=password.value,\n",
    "                                host=host.value,\n",
    "                                port=port.value,\n",
    "                                database='gavo'\n",
    "                               )\n",
    "dal = db.DbConnection()\n",
    "dal.db_init(url)"
   ]
  },
  {
   "cell_type": "markdown",
   "metadata": {},
   "source": [
    "# Step 1 - Region selection\n",
    "\n",
    "Remove regions with instrumental problmens\n",
    "Informations about survey conditions\n",
    "Depth map\n",
    "foreground objects\n",
    "detection fraction\n",
    "\n",
    "**TO DO**: update list below\n",
    "Steps:\n",
    "1. Select an ancillary map from the list above.\n",
    "2. Build a sql statement. -show query before execution-\n",
    "3. Create table from sql statement\n",
    "4. Report info and statistics about the table -Product log-"
   ]
  },
  {
   "cell_type": "markdown",
   "metadata": {},
   "source": [
    "## 1.1 - Coverage maps - detection fraction (detfrac)\n",
    "\n",
    "The coverage map is organized in [HEALPix](http://healpix.sourceforge.net/) pixels (NSide 4096, ordered RING) and it tells us about the fraction of the pixels that are actually covered by observations. \n",
    "\n",
    "The original format generated in the software XXX(ref), during the observarions, is [MANGLE](http://space.mit.edu/~molly/mangle/), which explains the table name \"mangle_maps_4096_ring_frac_i_<process_id>\". (not sure, check this info). This map was created by pipeline YYYY, process id 10029940.\n",
    "\n",
    "On this [redmine wiki page](https://cdcvs.fnal.gov/redmine/projects/des-y1/wiki/Healpix_fracdet_map_features) there is a warning about linear features in the healpixelized i-band fracdet maps."
   ]
  },
  {
   "cell_type": "markdown",
   "metadata": {},
   "source": [
    "Load tables and inspect columns:"
   ]
  },
  {
   "cell_type": "code",
   "execution_count": null,
   "metadata": {},
   "outputs": [],
   "source": [
    "# REVIEW:\n",
    "# - how to choose the available tables outside E2E env ? -> Use \n",
    "# - list availabe tables\n",
    "table_mangle_i = sqlalchemy.Table(\"mangle_maps_4096_ring_frac_i_10029940\", dal.meta, autoload=True, schema=\"y1a1_coadd_cosmos_d04\").alias('table_mangle_i')\n",
    "\n",
    "print(\"Inspecting columns from table:\\n\")\n",
    "#print(str(table_mangle_i.c.values()))\n",
    "for val in table_mangle_i.c:\n",
    "    print(val)"
   ]
  },
  {
   "cell_type": "markdown",
   "metadata": {},
   "source": [
    "Reading data from the table"
   ]
  },
  {
   "cell_type": "code",
   "execution_count": null,
   "metadata": {},
   "outputs": [],
   "source": [
    "ra, dec, detfrac = np.array(dal.select_columns('mangle_maps_4096_ring_frac_i_10029940', schema='y1a1_coadd_cosmos_d04', columns=['ra', 'dec', 'signal'])).T"
   ]
  },
  {
   "cell_type": "code",
   "execution_count": null,
   "metadata": {},
   "outputs": [],
   "source": [
    "print('R.A. from %.2f to %.2f degrees' % (np.min(ra), np.max(ra)))\n",
    "print('Dec. from %.2f to %.2f degrees' % (np.min(dec), np.max(dec)))\n",
    "print('Detfrac from %.2f to %.2f' % (np.min(detfrac), np.max(detfrac)))"
   ]
  },
  {
   "cell_type": "markdown",
   "metadata": {},
   "source": [
    "#### Detfrac distribution"
   ]
  },
  {
   "cell_type": "code",
   "execution_count": null,
   "metadata": {},
   "outputs": [],
   "source": [
    "fig, axes = plt.subplots()\n",
    "n, bins, patches = axes.hist(np.array(detfrac), 25, facecolor='red', alpha=0.50, log=True)\n",
    "axes.set_xlabel('detection fraction')\n",
    "axes.set_ylabel('number of pixels')"
   ]
  },
  {
   "cell_type": "markdown",
   "metadata": {},
   "source": [
    "#### Spatial distribution of pixels"
   ]
  },
  {
   "cell_type": "code",
   "execution_count": null,
   "metadata": {},
   "outputs": [],
   "source": [
    "fig, axes = plt.subplots()\n",
    "axes.scatter(ra, dec, s=.1)\n",
    "axes.set_xlabel('R.A. (degrees)')\n",
    "axes.set_ylabel('Dec. (degrees)')"
   ]
  },
  {
   "cell_type": "markdown",
   "metadata": {},
   "source": [
    "#### Det frac map with color bar"
   ]
  },
  {
   "cell_type": "code",
   "execution_count": null,
   "metadata": {},
   "outputs": [],
   "source": [
    "pt.plot_map(np.array([ra, dec, detfrac]).T, label=\"detection fraction\")\n",
    "plt.tight_layout()"
   ]
  },
  {
   "cell_type": "code",
   "execution_count": null,
   "metadata": {},
   "outputs": [],
   "source": [
    "pt.plot_signal_area(np.array(detfrac), NSIDE=4096, xlabel='x (detfrac)', ylabel='number of pixels with detfrac >= x' )"
   ]
  },
  {
   "cell_type": "markdown",
   "metadata": {},
   "source": [
    "# paramos aqui (Julia e Hillysson)"
   ]
  },
  {
   "cell_type": "markdown",
   "metadata": {},
   "source": [
    "Selecting the pixel number, R.A., Dec. and objects with detfrac >= 0.8 "
   ]
  },
  {
   "cell_type": "code",
   "execution_count": null,
   "metadata": {},
   "outputs": [],
   "source": [
    "input_params = {}\n",
    "intermediate_tables = {}\n",
    "\n",
    "input_params['schema'] = 'y1a1_coadd_cosmos_d04'\n",
    "input_params['table'] = 'mangle_maps_4096_ring_frac_i_10029940'\n",
    "input_params['signal'] = 0.8\n",
    "\n",
    "operation = qy1.GreatEqualThanSignalColumn(input_params, intermediate_tables)\n",
    "print(sqlparse.format(operation.sql(), reindent=True, keyword_case='upper'))"
   ]
  },
  {
   "cell_type": "markdown",
   "metadata": {},
   "source": [
    "Creating a table"
   ]
  },
  {
   "cell_type": "code",
   "execution_count": null,
   "metadata": {},
   "outputs": [],
   "source": [
    "%%time\n",
    "operation.create_table('tmp_table_mangle_i')"
   ]
  },
  {
   "cell_type": "markdown",
   "metadata": {},
   "source": [
    "Selecting signal column for the **2 samples**:\n",
    "    - full sample\n",
    "    - filtered sample (only with detfrac >= 0.8)."
   ]
  },
  {
   "cell_type": "code",
   "execution_count": null,
   "metadata": {},
   "outputs": [],
   "source": [
    "original_data = dal.select_columns('mangle_maps_4096_ring_frac_i_10029940', schema='y1a1_coadd_cosmos_d04', columns=['signal'])\n",
    "filtered_data = dal.select_columns(\"tmp_table_mangle_i\", columns=['signal'])"
   ]
  },
  {
   "cell_type": "markdown",
   "metadata": {},
   "source": [
    "Size of the samples:"
   ]
  },
  {
   "cell_type": "code",
   "execution_count": null,
   "metadata": {},
   "outputs": [],
   "source": [
    "print('full sample:', len(original_data), 'objects')\n",
    "print('filtered sample:', len(filtered_data), 'objects')"
   ]
  },
  {
   "cell_type": "markdown",
   "metadata": {},
   "source": [
    "#### Detfrac distribution"
   ]
  },
  {
   "cell_type": "code",
   "execution_count": null,
   "metadata": {},
   "outputs": [],
   "source": [
    "fig, (ax1, ax2) = plt.subplots(1,2, sharey=True, sharex=True)\n",
    "n, bins, patches = ax1.hist(np.array(original_data), 25, facecolor='red', alpha=0.50, log=True)\n",
    "ax1.set_xlabel('detection fraction')\n",
    "ax1.set_ylabel('number of pixels')\n",
    "\n",
    "n, bins, patches = ax2.hist(np.array(filtered_data), 5, facecolor='red', alpha=0.50, log=True)\n",
    "ax2.set_xlabel('detection fraction')\n",
    "ax2.set_ylabel('number of pixels')\n",
    "\n",
    "fig.show()"
   ]
  },
  {
   "cell_type": "code",
   "execution_count": null,
   "metadata": {},
   "outputs": [],
   "source": [
    "# Surface plots\n",
    "from src import plots as pt\n",
    "\n",
    "data = dal.select_columns('tmp_table_mangle_i', columns=['ra', 'dec', 'signal'])\n",
    "pt.plot_map(data)"
   ]
  },
  {
   "cell_type": "code",
   "execution_count": null,
   "metadata": {},
   "outputs": [],
   "source": [
    "input_params = {}\n",
    "intermediate_tables = {}\n",
    "\n",
    "input_params['schema'] = 'y1a1_coadd_cosmos_d04'\n",
    "input_params['table'] = 'mangle_maps_4096_ring_frac_g_10029940'\n",
    "input_params['signal'] = 0.9\n",
    "\n",
    "operation = qy1.GreatEqualThanSignalColumn(input_params, intermediate_tables)\n",
    "print(sqlparse.format(operation.sql(), reindent=True, keyword_case='upper'))"
   ]
  },
  {
   "cell_type": "code",
   "execution_count": null,
   "metadata": {},
   "outputs": [],
   "source": [
    "%%time\n",
    "operation.create_table('tmp_table_mangle_g')"
   ]
  },
  {
   "cell_type": "code",
   "execution_count": null,
   "metadata": {},
   "outputs": [],
   "source": [
    "data = dal.select_columns(\"tmp_table_mangle_g\", columns=['signal'])\n",
    "\n",
    "fig, axes = plt.subplots()\n",
    "n, bins, patches = axes.hist(np.array(data), 25, facecolor='red', alpha=0.50)\n",
    "axes.set_xlabel('xlabel')\n",
    "axes.set_ylabel('ylabel')\n",
    "fig.show()"
   ]
  },
  {
   "cell_type": "markdown",
   "metadata": {},
   "source": [
    "# Review\n",
    "\n",
    "* The pixels have different areas. How to combine them?"
   ]
  },
  {
   "cell_type": "code",
   "execution_count": null,
   "metadata": {},
   "outputs": [],
   "source": [
    "input_params = {}\n",
    "intermediate_tables = {}\n",
    "\n",
    "intermediate_tables['tables'] = []\n",
    "intermediate_tables['tables'].append({'schema': dal.schema_output, 'table': 'tmp_table_mangle_i'})\n",
    "intermediate_tables['tables'].append({'schema': dal.schema_output, 'table': 'tmp_table_mangle_g'})\n",
    "\n",
    "operation = qy1.CombinedMaps(input_params, intermediate_tables)\n",
    "print(sqlparse.format(operation.sql(), reindent=True, keyword_case='upper'))"
   ]
  },
  {
   "cell_type": "code",
   "execution_count": null,
   "metadata": {},
   "outputs": [],
   "source": [
    "%%time\n",
    "operation.create_table('tmp_table_mangle_combined')"
   ]
  },
  {
   "cell_type": "code",
   "execution_count": null,
   "metadata": {},
   "outputs": [],
   "source": [
    "data = dal.select_columns('tmp_table_mangle_combined', columns=['ra', 'dec', 'signal'])\n",
    "pt.plot_map(data)"
   ]
  },
  {
   "cell_type": "code",
   "execution_count": null,
   "metadata": {},
   "outputs": [],
   "source": [
    "table_bad_regions = sqlalchemy.Table(\"y1a1_coadd_cosmos_d04_bright_mask_4096_ring_10023572\", dal.meta, autoload=True, schema=\"bright_mask\").alias('table_bad_regions')\n",
    "str(table_bad_regions.c.values())"
   ]
  },
  {
   "cell_type": "markdown",
   "metadata": {},
   "source": [
    "# Review\n",
    "\n",
    "* nomenclature of maps  \n",
    "* flag conditions  \n",
    "* are the maps ingested in the DB correct?"
   ]
  },
  {
   "cell_type": "code",
   "execution_count": null,
   "metadata": {},
   "outputs": [],
   "source": [
    "input_params = {}\n",
    "intermediate_tables = {}\n",
    "\n",
    "input_params['schema'] = 'bright_mask'\n",
    "input_params['table'] = 'y1a1_coadd_cosmos_d04_bright_mask_4096_ring_10023572'\n",
    "\n",
    "filters = [32, 8, 4, 2]\n",
    "input_params['filters'] = filters\n",
    "\n",
    "operation = qy1.BadRegions(input_params, intermediate_tables)\n",
    "print(sqlparse.format(operation.sql(), reindent=True, keyword_case='upper'))"
   ]
  },
  {
   "cell_type": "code",
   "execution_count": null,
   "metadata": {},
   "outputs": [],
   "source": [
    "%%time\n",
    "operation.create_table('tmp_table_bad_regions')"
   ]
  },
  {
   "cell_type": "markdown",
   "metadata": {},
   "source": [
    "# Review\n",
    "* jupyter-vac kernel. What is the skymapper version?"
   ]
  },
  {
   "cell_type": "code",
   "execution_count": null,
   "metadata": {},
   "outputs": [],
   "source": [
    "data = dal.select_columns('tmp_table_bad_regions', columns=['ra', 'dec', 'signal'])\n",
    "pt.plot_map(data)"
   ]
  },
  {
   "cell_type": "markdown",
   "metadata": {},
   "source": [
    "# Depth Map"
   ]
  },
  {
   "cell_type": "code",
   "execution_count": null,
   "metadata": {},
   "outputs": [],
   "source": [
    "# Add comments.\n",
    "table_depth_i = sqlalchemy.Table(\"y1a1_coadd_cosmos_d04_5_auto_4096_ring_i_10024579\", dal.meta, autoload=True, schema=\"depth_maps\").alias('table_mangle_i')\n",
    "str(table_depth_i.c.values())"
   ]
  },
  {
   "cell_type": "code",
   "execution_count": null,
   "metadata": {},
   "outputs": [],
   "source": [
    "# Inspect SQL\n",
    "stm = sqlalchemy.select([table_depth_i]).where(table_depth_i.c.signal >= 24)\n",
    "print(sqlparse.format(str(stm), reindent=True, keyword_case='upper'))"
   ]
  },
  {
   "cell_type": "code",
   "execution_count": null,
   "metadata": {},
   "outputs": [],
   "source": [
    "%%time\n",
    "dal.create_table('tmp_table_depth_i', stm)"
   ]
  },
  {
   "cell_type": "code",
   "execution_count": null,
   "metadata": {},
   "outputs": [],
   "source": [
    "data = dal.select_columns('tmp_table_depth_i', columns=['signal'])"
   ]
  },
  {
   "cell_type": "code",
   "execution_count": null,
   "metadata": {},
   "outputs": [],
   "source": [
    "fig, axes = plt.subplots()\n",
    "n, bins, patches = axes.hist(np.array(data), 25, facecolor='red', alpha=0.50)\n",
    "axes.set_xlabel('mlim')\n",
    "axes.set_ylabel('number of pixels')\n",
    "fig.show()"
   ]
  },
  {
   "cell_type": "code",
   "execution_count": null,
   "metadata": {},
   "outputs": [],
   "source": [
    "data = dal.select_columns('tmp_table_depth_i', columns=['ra', 'dec', 'signal'])\n",
    "pt.plot_map(data)"
   ]
  },
  {
   "cell_type": "code",
   "execution_count": null,
   "metadata": {},
   "outputs": [],
   "source": [
    "data = dal.select_columns('tmp_table_depth_i', columns=['signal'])\n",
    "pt.plot_signal_area(data, NSIDE=4096)"
   ]
  },
  {
   "cell_type": "markdown",
   "metadata": {},
   "source": [
    "# Insert bright mask ?"
   ]
  },
  {
   "cell_type": "code",
   "execution_count": null,
   "metadata": {},
   "outputs": [],
   "source": [
    "# Footprint\n",
    "input_params = {}\n",
    "intermediate_tables = {}\n",
    "\n",
    "intermediate_tables['good_regions'] = []\n",
    "intermediate_tables['bad_regions'] = []\n",
    "\n",
    "intermediate_tables['good_regions'].append({'schema': dal.schema_output, 'table': 'tmp_table_depth_i'})\n",
    "intermediate_tables['good_regions'].append({'schema': dal.schema_output, 'table': 'tmp_table_mangle_i'})\n",
    "intermediate_tables['bad_regions'].append({'schema': dal.schema_output, 'table': 'tmp_table_bad_regions'})\n",
    "\n",
    "operation = qy1.Footprint(input_params, intermediate_tables)\n",
    "print(sqlparse.format(operation.sql(), reindent=True, keyword_case='upper'))"
   ]
  },
  {
   "cell_type": "code",
   "execution_count": null,
   "metadata": {
    "scrolled": true
   },
   "outputs": [],
   "source": [
    "%%time\n",
    "operation.create_table('tmp_footprint')"
   ]
  },
  {
   "cell_type": "code",
   "execution_count": null,
   "metadata": {},
   "outputs": [],
   "source": [
    "# data = dal.select_columns('tmp_footprint', columns=['signal'])"
   ]
  },
  {
   "cell_type": "code",
   "execution_count": null,
   "metadata": {},
   "outputs": [],
   "source": [
    "data = dal.select_columns('tmp_footprint', columns=['ra', 'dec', 'signal'])\n",
    "pt.plot_map(data)"
   ]
  },
  {
   "cell_type": "markdown",
   "metadata": {},
   "source": [
    "# Review\n",
    "\n",
    "* The reference band to calculate the area"
   ]
  },
  {
   "cell_type": "code",
   "execution_count": null,
   "metadata": {},
   "outputs": [],
   "source": [
    "data = dal.select_columns('tmp_footprint', columns=['signal'])\n",
    "pt.plot_signal_area(data, NSIDE=4096)"
   ]
  },
  {
   "cell_type": "markdown",
   "metadata": {},
   "source": [
    "# Step 2 - Object Selection\n",
    "\n",
    "Reduciton  \n",
    "Cuts  \n",
    "Bitmask  \n",
    "Column selection"
   ]
  },
  {
   "cell_type": "code",
   "execution_count": null,
   "metadata": {},
   "outputs": [],
   "source": [
    "# Zero Point\n",
    "input_params = {}\n",
    "intermediate_tables = {}\n",
    "\n",
    "input_params['zero_point'] = {'schema': 'zeropoint_correction', 'table': 'slr_zeropoints_10023395'}\n",
    "input_params['coadd_objects'] = {'schema': 'y1a1_coadd_cosmos_d04', 'table': 'coadd_objects'}\n",
    "\n",
    "input_params['correction_type'] = 'extinction_and_slr'\n",
    "input_params['add_slr_shift_columns'] = True\n",
    "input_params['add_cuts_columns'] = True\n",
    "input_params['mag_type'] = 'auto'\n",
    "input_params['columns'] = [\"mag_model_g\", \"mag_model_r\", \"mag_model_i\", \"mag_model_z\", \"mag_model_y\", \"mag_auto_g\", \"mag_auto_r\", \"mag_auto_i\", \"mag_auto_z\", \"mag_auto_y\"]\n",
    "\n",
    "operation = qy1.ZeroPoint(input_params, intermediate_tables)\n",
    "print(sqlparse.format(operation.sql(), reindent=True, keyword_case='upper'))"
   ]
  },
  {
   "cell_type": "code",
   "execution_count": null,
   "metadata": {},
   "outputs": [],
   "source": [
    "%%time\n",
    "operation.create_table('tmp_zero_point')"
   ]
  },
  {
   "cell_type": "code",
   "execution_count": null,
   "metadata": {},
   "outputs": [],
   "source": [
    "# Reduction\n",
    "input_params = {}\n",
    "intermediate_tables = {}\n",
    "\n",
    "input_params['coadd_objects_ring'] = {'schema': 'y1a1_coadd_cosmos_d04', 'table': 'coadd_objects_pixel_4096_ring_10029940'}\n",
    "intermediate_tables['footprint'] = {'schema': dal.schema_output, 'table': 'tmp_footprint'}\n",
    "\n",
    "operation = qy1.Reduction(input_params, intermediate_tables)\n",
    "print(sqlparse.format(operation.sql(), reindent=True, keyword_case='upper'))"
   ]
  },
  {
   "cell_type": "code",
   "execution_count": null,
   "metadata": {},
   "outputs": [],
   "source": [
    "%%time\n",
    "operation.create_table('tmp_reduction')"
   ]
  },
  {
   "cell_type": "code",
   "execution_count": null,
   "metadata": {},
   "outputs": [],
   "source": [
    "# Cuts\n",
    "input_params = {}\n",
    "intermediate_tables = {}\n",
    "\n",
    "input_params['coadd_objects'] = {'schema': 'y1a1_coadd_cosmos_d04', 'table': 'coadd_objects'}\n",
    "input_params['mag_type'] = 'auto'\n",
    "input_params['sextractor_flags'] = [0, 1, 2]\n",
    "input_params['sextractor_bands'] = ['i']\n",
    "input_params['additional_cuts'] = ['remove_bbj', 'spreaderr_model', 'bad_astronomic_colors']\n",
    "input_params['niter_model'] = []\n",
    "input_params['sn_cuts'] = {}\n",
    "input_params['magnitude_limit'] = {'i': '22'}\n",
    "input_params['bright_magnitude'] = {'i': '15'}\n",
    "input_params['color_cuts'] = {'gr':[-2, 4], 'ri':[-2, 4], 'iz':[-2, 4], 'zy':[-2, 4]}\n",
    "\n",
    "intermediate_tables['zero_point'] = {'schema': dal.schema_output, 'table': 'tmp_zero_point'}\n",
    "intermediate_tables['reduction'] = {'schema': dal.schema_output, 'table': 'tmp_reduction'}\n",
    "\n",
    "operation = qy1.Cuts(input_params, intermediate_tables)\n",
    "print(sqlparse.format(operation.sql(), reindent=True, keyword_case='upper'))"
   ]
  },
  {
   "cell_type": "code",
   "execution_count": null,
   "metadata": {},
   "outputs": [],
   "source": [
    "%%time\n",
    "operation.create_table('tmp_cuts')"
   ]
  },
  {
   "cell_type": "code",
   "execution_count": null,
   "metadata": {},
   "outputs": [],
   "source": [
    "# rever plot = colunas ra e dec não existentes\n",
    "# data = dal.select_columns('tmp_cuts', columns=['ra', 'dec'])\n",
    "# pt.plot_catalog(4096, data)"
   ]
  },
  {
   "cell_type": "code",
   "execution_count": null,
   "metadata": {},
   "outputs": [],
   "source": [
    "# Bitmask\n",
    "input_params = {}\n",
    "intermediate_tables = {}\n",
    "\n",
    "input_params['molygon_coadds'] = {'schema': 'y1a1_coadd_cosmos_d04', 'table': 'coadd_objects_molygon_10029940'}\n",
    "input_params['molygon'] = {'schema': 'y1a1_coadd_cosmos_d04', 'table': 'molygon_10029940'}\n",
    "# mangle_bitmask\n",
    "# g,r,i,z,Y\n",
    "input_params['mangle_bitmask'] = ['i']\n",
    "\n",
    "intermediate_tables['last_table'] = {'schema': dal.schema_output, 'table': 'tmp_cuts'}\n",
    "\n",
    "operation = qy1.Bitmask(input_params, intermediate_tables)\n",
    "print(sqlparse.format(operation.sql(), reindent=True, keyword_case='upper'))"
   ]
  },
  {
   "cell_type": "code",
   "execution_count": null,
   "metadata": {},
   "outputs": [],
   "source": [
    "%%time\n",
    "operation.create_table('tmp_bitmask')"
   ]
  },
  {
   "cell_type": "code",
   "execution_count": null,
   "metadata": {},
   "outputs": [],
   "source": [
    "# Object Selection\n",
    "input_params = {}\n",
    "intermediate_tables = {}\n",
    "\n",
    "input_params['coadd_objects'] = {'schema': 'y1a1_coadd_cosmos_d04', 'table': 'coadd_objects'}\n",
    "input_params['columns_data_set'] = ['a_image', 'alphawin_j2000_y', 'bwin_image_r', 'chi2_psf_r', 'ra', 'dec']\n",
    "input_params['columns_zero_point'] = ['mag_model_g', 'mag_model_r', 'mag_auto_z', 'mag_auto_y']\n",
    "\n",
    "intermediate_tables['last_table'] = {'schema': dal.schema_output, 'table': 'tmp_bitmask'}\n",
    "intermediate_tables['zero_point'] = {'schema': dal.schema_output, 'table': 'tmp_zero_point'}\n",
    "\n",
    "operation = qy1.ObjectSelection(input_params, intermediate_tables)\n",
    "print(sqlparse.format(operation.sql(), reindent=True, keyword_case='upper'))"
   ]
  },
  {
   "cell_type": "code",
   "execution_count": null,
   "metadata": {
    "scrolled": true
   },
   "outputs": [],
   "source": [
    "%%time\n",
    "operation.create_table('tmp_object_selection')"
   ]
  },
  {
   "cell_type": "code",
   "execution_count": null,
   "metadata": {},
   "outputs": [],
   "source": [
    "data = dal.select_columns('tmp_object_selection', columns=['ra', 'dec'])\n",
    "pt.plot_catalog(4096, data)"
   ]
  },
  {
   "cell_type": "code",
   "execution_count": null,
   "metadata": {},
   "outputs": [],
   "source": [
    "# PhotoZ\n",
    "input_params = {}\n",
    "intermediate_tables = {}\n",
    "\n",
    "input_params['zmin'] = 0\n",
    "input_params['zmax'] = 2\n",
    "input_params['pz_tables'] = [{'schema': 'photoz_compute', 'table': 'dnf_10027425'}]\n",
    "\n",
    "intermediate_tables['last_table'] = {'schema': dal.schema_output, 'table': 'tmp_object_selection'}\n",
    "\n",
    "operation = qy1.PhotoZ(input_params, intermediate_tables)\n",
    "print(sqlparse.format(operation.sql(), reindent=True, keyword_case='upper'))"
   ]
  },
  {
   "cell_type": "code",
   "execution_count": null,
   "metadata": {},
   "outputs": [],
   "source": [
    "%%time\n",
    "operation.create_table('tmp_photoz')"
   ]
  },
  {
   "cell_type": "code",
   "execution_count": null,
   "metadata": {},
   "outputs": [],
   "source": [
    "intermediate_tables = {\"cur_table\": {\"schema\": dal.schema_output, \"table\": 'tmp_photoz'},\n",
    "                      \"coadd_objects\": {'schema': 'y1a1_coadd_cosmos_d04', 'table': 'coadd_objects'}}\n",
    "data = dal.prepare_data_to_plot_catalog(intermediate_tables)\n",
    "pt.plot_catalog(4096, data)"
   ]
  },
  {
   "cell_type": "code",
   "execution_count": null,
   "metadata": {},
   "outputs": [],
   "source": [
    "# Star Galaxy Separation\n",
    "input_params = {}\n",
    "intermediate_tables = {}\n",
    "\n",
    "input_params['select_starts'] = True\n",
    "input_params['select_galaxies'] = False\n",
    "input_params['reference_band'] = 'g'\n",
    "input_params['sg_tables'] = [{'schema': 'sg_separation', 'table': 'modest_10022759'}]\n",
    "\n",
    "intermediate_tables['last_table'] = {'schema': dal.schema_output, 'table': 'tmp_photoz'}\n",
    "\n",
    "operation = qy1.SgSeparation(input_params, intermediate_tables)\n",
    "print(sqlparse.format(operation.sql(), reindent=True, keyword_case='upper'))"
   ]
  },
  {
   "cell_type": "code",
   "execution_count": null,
   "metadata": {},
   "outputs": [],
   "source": [
    "%%time\n",
    "operation.create_table('tmp_sg_separation')"
   ]
  },
  {
   "cell_type": "code",
   "execution_count": null,
   "metadata": {},
   "outputs": [],
   "source": [
    "intermediate_tables = {\"cur_table\": {\"schema\": dal.schema_output, \"table\": 'tmp_sg_separation'},\n",
    "                      \"coadd_objects\": {'schema': 'y1a1_coadd_cosmos_d04', 'table': 'coadd_objects'}}\n",
    "data = dal.prepare_data_to_plot_catalog(intermediate_tables)\n",
    "pt.plot_catalog(4096, data)"
   ]
  },
  {
   "cell_type": "code",
   "execution_count": null,
   "metadata": {},
   "outputs": [],
   "source": [
    "# Galaxy Properties - only add additional columns at the end of the table.\n",
    "input_params = {}\n",
    "intermediate_tables = {}\n",
    "\n",
    "input_params['columns'] = [\"mod_best\", \"ebv_best\", \"k_cor_g\", \"k_cor_i\", \"k_cor_r\", \"k_cor_y\", \"k_cor_z\", \"mag_abs_g\", \"mag_abs_i\", \"mag_abs_r\", \"mag_abs_y\", \"mag_abs_z\", \"mass_best\", \"age_best\", \"sfr_best\"]\n",
    "input_params['gp_tables'] = [{'schema': 'gal_properties', 'table': 'lephare_10022885'}]\n",
    "\n",
    "intermediate_tables['last_table'] = {'schema': dal.schema_output, 'table': 'tmp_sg_separation'}\n",
    "\n",
    "operation = qy1.GalaxyProperties(input_params, intermediate_tables)\n",
    "print(sqlparse.format(operation.sql(), reindent=True, keyword_case='upper'))"
   ]
  },
  {
   "cell_type": "code",
   "execution_count": null,
   "metadata": {},
   "outputs": [],
   "source": [
    "%%time\n",
    "operation.create_table('tmp_galaxy_properties')"
   ]
  }
 ],
 "metadata": {
  "kernelspec": {
   "display_name": "jupyter-vac",
   "language": "python",
   "name": "jupyter-vac"
  },
  "language_info": {
   "codemirror_mode": {
    "name": "ipython",
    "version": 3
   },
   "file_extension": ".py",
   "mimetype": "text/x-python",
   "name": "python",
   "nbconvert_exporter": "python",
   "pygments_lexer": "ipython3",
   "version": "3.6.4"
  }
 },
 "nbformat": 4,
 "nbformat_minor": 1
}
